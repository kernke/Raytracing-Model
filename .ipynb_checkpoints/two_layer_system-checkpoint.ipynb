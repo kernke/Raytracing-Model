{
 "cells": [
  {
   "cell_type": "code",
   "execution_count": 6,
   "metadata": {},
   "outputs": [],
   "source": [
    "import numpy as np\n",
    "import matplotlib.pyplot as plt\n",
    "import time\n",
    "import raytracer_angle_distr as ray\n"
   ]
  },
  {
   "cell_type": "code",
   "execution_count": 7,
   "metadata": {},
   "outputs": [
    {
     "data": {
      "text/plain": [
       "2.3438465460167968"
      ]
     },
     "execution_count": 7,
     "metadata": {},
     "output_type": "execute_result"
    }
   ],
   "source": [
    "def gan_n(lambda_in_mu):\n",
    "    return np.sqrt(3.6+1.75*lambda_in_mu**2/(lambda_in_mu**2-0.256**2)+4.1*lambda_in_mu**2/(lambda_in_mu**2-17.86**2))\n",
    "#https://refractiveindex.info/?shelf=main&book=GaN&page=Barker-o\n",
    "gan_n(0.9)"
   ]
  },
  {
   "cell_type": "code",
   "execution_count": 13,
   "metadata": {},
   "outputs": [],
   "source": [
    "#Constructing the grid\n",
    "#two cells per dimension are for the boundaries\n",
    "#so the real structure for the xyz-form 1x1x2 becomes 3x3x4\n",
    "#boundary cells with length 1 are added\n",
    "x_cell_length=np.array([1,1000,1])\n",
    "y_cell_length=np.array([1,100,1])\n",
    "z_cell_length=np.array([1,98,2,1])\n",
    "\n",
    "#1 reprents 1 micrometer\n",
    "\n",
    "startdistr=0#np.load('isou.npy')\n",
    "startvolume_borders=np.array([0.,1000.,\n",
    "                              0.,100.,\n",
    "                              98.,100.])\n",
    "\n",
    "#refractive index\n",
    "etaSubstrat=2.34386\n",
    "etaActive=  2.34384\n",
    "\n",
    "#absorption coefficient\n",
    "absorpSubstrat=3 *0.0001#3\n",
    "absorpActive=10*0.0001#10\n",
    "\n",
    "#The runtime can be given either as number of repetitions or in minutes \n",
    "repetitions=0\n",
    "reptime=1  #in min\n",
    "\n",
    "number_of_rays=10**4\n",
    "aperture=0.5\n",
    "chip_resolution=np.array([100,100])# y,z\n",
    "focal_plane_size=np.array([0.,np.sum(y_cell_length)-2,0.,np.sum(z_cell_length)-2])\n",
    "chip_direction=np.array([1,0,0])\n",
    "intensityborder= 0.1*0.01\n",
    "mode='normal'\n",
    "history_num=-1\n",
    "mask=False\n",
    "printmode=False\n",
    "smallprintmode=False\n",
    "\n",
    "etaActiveContact=etaActive \n",
    "etaAir=1.\n",
    "\n",
    "theta1=np.arcsin(etaAir/min(etaSubstrat,etaActive,etaActiveContact)*aperture)/np.pi*180\n",
    "theta2=np.arcsin(min(etaSubstrat,etaActive,etaActiveContact)/max(etaActiveContact,etaSubstrat,etaActive)*np.sin((90-theta1)/180.*np.pi))/np.pi*180\n",
    "opening_angle_x=90-theta2\n",
    "\n",
    "   \n",
    "absorp_final=-1000\n",
    "absorp_boundary=1000\n",
    "                 \n",
    "x_number_of_cells=len(x_cell_length)\n",
    "y_number_of_cells=len(y_cell_length)\n",
    "z_number_of_cells=len(z_cell_length)"
   ]
  },
  {
   "cell_type": "code",
   "execution_count": 14,
   "metadata": {},
   "outputs": [],
   "source": [
    "#initializing the grid\n",
    "grid=np.ndarray([x_number_of_cells,y_number_of_cells,z_number_of_cells,8])\n",
    "   \n",
    "#writing the cell border values in the grid\n",
    "grid[:,:,:,:6]=-1\n",
    "for x in range(x_number_of_cells):\n",
    "    for y in range(y_number_of_cells):\n",
    "        for z in range(z_number_of_cells):\n",
    "            grid[x,y,z,0]=grid[x,y,z,0]+np.sum(x_cell_length[:x])     #xlow\n",
    "            grid[x,y,z,1]=grid[x,y,z,1]+np.sum(x_cell_length[:x+1])   #xhigh\n",
    "            grid[x,y,z,2]=grid[x,y,z,2]+np.sum(y_cell_length[:y])     #ylow\n",
    "            grid[x,y,z,3]=grid[x,y,z,3]+np.sum(y_cell_length[:y+1])   #yhigh       \n",
    "            grid[x,y,z,4]=grid[x,y,z,4]+np.sum(z_cell_length[:z])     #zlow\n",
    "            grid[x,y,z,5]=grid[x,y,z,5]+np.sum(z_cell_length[:z+1])   #zhigh\n",
    "   \n",
    "   \n",
    "#only the material properties eta and absorb are missing in the grid\n",
    "   \n",
    "#Assigning these values in yz-slices, which then will be stacked on the x-axis\n",
    "   \n",
    "#initializing the slices           \n",
    "etaslice1=np.zeros([y_number_of_cells,z_number_of_cells])\n",
    "etaslice2=np.zeros([y_number_of_cells,z_number_of_cells])\n",
    "etaslice3=np.zeros([y_number_of_cells,z_number_of_cells])\n",
    "   \n",
    "etaslice2[0,:]=etaAir\n",
    "etaslice2[y_number_of_cells-1,:]=etaAir\n",
    "etaslice2[1:y_number_of_cells-1,1:z_number_of_cells-2]=etaSubstrat\n",
    "etaslice2[1:y_number_of_cells-1,z_number_of_cells-2:z_number_of_cells-1]=etaActive\n",
    "etaslice3=etaAir\n",
    "     \n",
    "#initializing the slices\n",
    "absorbslice1=np.zeros([y_number_of_cells,z_number_of_cells])\n",
    "absorbslice2=np.zeros([y_number_of_cells,z_number_of_cells])\n",
    "absorbslice3=np.zeros([y_number_of_cells,z_number_of_cells])\n",
    "   \n",
    "absorbslice2[0,:]=absorp_boundary\n",
    "absorbslice2[y_number_of_cells-1,:]=absorp_boundary\n",
    "absorbslice2[1:y_number_of_cells-1,1:z_number_of_cells-2]=absorpSubstrat\n",
    "absorbslice2[1:y_number_of_cells-1,z_number_of_cells-2:z_number_of_cells-1]=absorpActive\n",
    "absorbslice3[1:y_number_of_cells-1,1:z_number_of_cells-1]=absorp_final\n",
    "   \n",
    "#Writing the slices into the grid\n",
    "for x in range(x_number_of_cells):\n",
    "    if x==0:                       #x=0\n",
    "        grid[x][:,:,6]=etaslice1\n",
    "        grid[x][:,:,7]=absorbslice1\n",
    "    elif x<x_number_of_cells-1:    #x=1,2,... until one before last\n",
    "        grid[x][:,:,6]=etaslice2\n",
    "        grid[x][:,:,7]=absorbslice2\n",
    "    else:                          #x=last slice (containing the camera chip)\n",
    "        grid[x][:,:,6]=etaslice3\n",
    "        grid[x][:,:,7]=absorbslice3\n"
   ]
  },
  {
   "cell_type": "code",
   "execution_count": 15,
   "metadata": {},
   "outputs": [
    {
     "name": "stdout",
     "output_type": "stream",
     "text": [
      "Computing time for one execution 0.25\n",
      "0\n",
      "240\n",
      "Computing time 58.8099999428\n"
     ]
    }
   ],
   "source": [
    "zeit1=time.time()\n",
    "f,testdirec,testintens,absorp_cross_section_yz=ray.simulation(grid,    \n",
    "                                                              number_of_rays,\n",
    "                                                              startvolume_borders=startvolume_borders,                                                             \n",
    "                                                              chip_resolution=chip_resolution,\n",
    "                                                              focal_plane_size=focal_plane_size,\n",
    "                                                              intensityborder=intensityborder,\n",
    "                                                              smallprintmode=smallprintmode,\n",
    "                                                              printmode=printmode,\n",
    "                                                              aperture=aperture,\n",
    "                                                              opening_angle_x=opening_angle_x,\n",
    "                                                              mask=mask,\n",
    "                                                              history_num=history_num,\n",
    "                                                              startdistr=startdistr,\n",
    "                                                              absorp_final=absorp_final,\n",
    "                                                              absorp_boundary=absorp_boundary)\n",
    "\n",
    "zeit2=time.time()\n",
    "print 'Computing time for one execution '+str(zeit2-zeit1)[:9]\n",
    "\n",
    "\n",
    "if repetitions==0:\n",
    "    deltazeit=zeit2-zeit1\n",
    "    repetitions=int(reptime*60/deltazeit) \n",
    "\n",
    "proto=[]\n",
    "cumulative_image=np.zeros(chip_resolution)\n",
    "total_number_of_rays=number_of_rays*repetitions\n",
    "total=1/(1-1*np.cos(opening_angle_x/180.*np.pi))*total_number_of_rays   \n",
    "voltot=(np.sum(x_cell_length)-2.)*(np.sum(y_cell_length)-2.)*(np.sum(z_cell_length)-2.)\n",
    "volstart=(startvolume_borders[1]-startvolume_borders[0])*(startvolume_borders[3]-startvolume_borders[2])*(startvolume_borders[5]-startvolume_borders[4])\n",
    "#optional\n",
    "total=total*voltot/np.double(volstart)\n",
    "\n",
    "zeit1=time.time()\n",
    "for j in range(repetitions):\n",
    "    f,testdirec,testintens,absorp_cross_section_yz=ray.simulation(grid,    \n",
    "                                                              number_of_rays,\n",
    "                                                              startvolume_borders=startvolume_borders,                                                             \n",
    "                                                              chip_resolution=chip_resolution,\n",
    "                                                              focal_plane_size=focal_plane_size,\n",
    "                                                              intensityborder=intensityborder,\n",
    "                                                              smallprintmode=smallprintmode,\n",
    "                                                              printmode=printmode,\n",
    "                                                              aperture=aperture,\n",
    "                                                              opening_angle_x=opening_angle_x,\n",
    "                                                              mask=mask,\n",
    "                                                              history_num=history_num,\n",
    "                                                              startdistr=startdistr,\n",
    "                                                              absorp_final=absorp_final,\n",
    "                                                              absorp_boundary=absorp_boundary)\n",
    "   \n",
    "    cumulative_image+=f\n",
    "    if j==0:\n",
    "        maximal=int(np.shape(testintens)[0]+0.5*np.shape(testintens)[0])\n",
    "        intensity_protocoll=np.zeros([maximal,10])\n",
    "        cum_absorp_cross_sec=np.zeros(np.shape(absorp_cross_section_yz))\n",
    "       \n",
    "    intensity_protocoll[:np.shape(testintens)[0],:]+=testintens\n",
    "    cum_absorp_cross_sec+=absorp_cross_section_yz\n",
    "    if j%500==0:\n",
    "        print j\n",
    "ergebnis_promille=cumulative_image/total*1000\n",
    "proto.append(intensity_protocoll)\n",
    "\n",
    "zeit2=time.time()\n",
    "print repetitions\n",
    "print 'Computing time '+str(zeit2-zeit1)\n"
   ]
  },
  {
   "cell_type": "code",
   "execution_count": 16,
   "metadata": {},
   "outputs": [
    {
     "data": {
      "text/plain": [
       "<matplotlib.contour.QuadContourSet at 0xced0588>"
      ]
     },
     "execution_count": 16,
     "metadata": {},
     "output_type": "execute_result"
    },
    {
     "data": {
      "image/png": "[encoded data removed]",
      "text/plain": [
       "<matplotlib.figure.Figure at 0xba0bc88>"
      ]
     },
     "metadata": {},
     "output_type": "display_data"
    }
   ],
   "source": [
    "plt.contourf(ergebnis_promille)"
   ]
  },
  {
   "cell_type": "code",
   "execution_count": null,
   "metadata": {},
   "outputs": [],
   "source": []
  }
 ],
 "metadata": {
  "kernelspec": {
   "display_name": "Python 2",
   "language": "python",
   "name": "python2"
  },
  "language_info": {
   "codemirror_mode": {
    "name": "ipython",
    "version": 2
   },
   "file_extension": ".py",
   "mimetype": "text/x-python",
   "name": "python",
   "nbconvert_exporter": "python",
   "pygments_lexer": "ipython2",
   "version": "2.7.14"
  }
 },
 "nbformat": 4,
 "nbformat_minor": 2
}
